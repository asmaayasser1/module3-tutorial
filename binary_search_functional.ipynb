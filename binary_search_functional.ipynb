# Student Name: Asmaa Ali
# Module: Module 3 - Functional vs OOP Programming
# Description: This notebook contains my implementation of the Module 3 tutorial exercises, including sorting 0s, 1s,
and 2s using OOP principles, and performing binary search using a functional programming style.


{
 "cells": [
  {
   "cell_type": "code",
   "execution_count": 2,
   "id": "91d9e6dd",
   "metadata": {},
   "outputs": [
    {
     "name": "stdout",
     "output_type": "stream",
     "text": [
      "Index of 1 is: 0\n"
     ]
    }
   ],
   "source": [
    "# Binary Search (GeeksforGeeks version)\n",
    "\n",
    "class Solution:\n",
    "    def binarysearch(self, arr, k):\n",
    "        left = 0\n",
    "        right = len(arr) - 1\n",
    "        result = -1\n",
    "        \n",
    "        while left <= right:\n",
    "            mid = (left + right) // 2\n",
    "            if arr[mid] == k:\n",
    "                result = mid\n",
    "                right = mid - 1  # search for first occurrence\n",
    "            elif arr[mid] < k:\n",
    "                left = mid + 1\n",
    "            else:\n",
    "                right = mid - 1\n",
    "        \n",
    "        return result\n",
    "\n",
    "# Example usage\n",
    "sol = Solution()\n",
    "arr = [1, 1, 1, 2, 3, 4, 5]\n",
    "k = 1\n",
    "print(\"Index of\", k, \"is:\", sol.binarysearch(arr, k))  # Output: 0\n"
   ]
  }
 ],
 "metadata": {
  "kernelspec": {
   "display_name": "Python 3",
   "language": "python",
   "name": "python3"
  },
  "language_info": {
   "codemirror_mode": {
    "name": "ipython",
    "version": 3
   },
   "file_extension": ".py",
   "mimetype": "text/x-python",
   "name": "python",
   "nbconvert_exporter": "python",
   "pygments_lexer": "ipython3",
   "version": "3.12.5"
  }
 },
 "nbformat": 4,
 "nbformat_minor": 5
}
